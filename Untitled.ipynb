{
 "cells": [
  {
   "cell_type": "code",
   "execution_count": 129,
   "metadata": {},
   "outputs": [],
   "source": [
    "import pandas as pd\n",
    "import matplotlib.pyplot as plt\n",
    "import numpy as np\n",
    "import seaborn as sns\n",
    "import plotly.express as px\n"
   ]
  },
  {
   "cell_type": "code",
   "execution_count": 130,
   "metadata": {},
   "outputs": [],
   "source": [
    "year = 2021"
   ]
  },
  {
   "cell_type": "code",
   "execution_count": 131,
   "metadata": {},
   "outputs": [],
   "source": [
    "df_arrests =  pd.read_csv('NYPD_Arrest_Data__Year_to_Date_.csv')"
   ]
  },
  {
   "cell_type": "code",
   "execution_count": 132,
   "metadata": {},
   "outputs": [
    {
     "data": {
      "text/html": [
       "<div>\n",
       "<style scoped>\n",
       "    .dataframe tbody tr th:only-of-type {\n",
       "        vertical-align: middle;\n",
       "    }\n",
       "\n",
       "    .dataframe tbody tr th {\n",
       "        vertical-align: top;\n",
       "    }\n",
       "\n",
       "    .dataframe thead th {\n",
       "        text-align: right;\n",
       "    }\n",
       "</style>\n",
       "<table border=\"1\" class=\"dataframe\">\n",
       "  <thead>\n",
       "    <tr style=\"text-align: right;\">\n",
       "      <th></th>\n",
       "      <th>ARREST_KEY</th>\n",
       "      <th>ARREST_DATE</th>\n",
       "      <th>PD_CD</th>\n",
       "      <th>PD_DESC</th>\n",
       "      <th>KY_CD</th>\n",
       "      <th>OFNS_DESC</th>\n",
       "      <th>LAW_CODE</th>\n",
       "      <th>LAW_CAT_CD</th>\n",
       "      <th>ARREST_BORO</th>\n",
       "      <th>ARREST_PRECINCT</th>\n",
       "      <th>JURISDICTION_CODE</th>\n",
       "      <th>AGE_GROUP</th>\n",
       "      <th>PERP_SEX</th>\n",
       "      <th>PERP_RACE</th>\n",
       "      <th>X_COORD_CD</th>\n",
       "      <th>Y_COORD_CD</th>\n",
       "      <th>Latitude</th>\n",
       "      <th>Longitude</th>\n",
       "      <th>New Georeferenced Column</th>\n",
       "    </tr>\n",
       "  </thead>\n",
       "  <tbody>\n",
       "    <tr>\n",
       "      <th>0</th>\n",
       "      <td>238013474</td>\n",
       "      <td>12/18/2021</td>\n",
       "      <td>157.0</td>\n",
       "      <td>RAPE 1</td>\n",
       "      <td>104.0</td>\n",
       "      <td>RAPE</td>\n",
       "      <td>PL 1303501</td>\n",
       "      <td>F</td>\n",
       "      <td>Q</td>\n",
       "      <td>105</td>\n",
       "      <td>97</td>\n",
       "      <td>18-24</td>\n",
       "      <td>M</td>\n",
       "      <td>BLACK</td>\n",
       "      <td>1057636</td>\n",
       "      <td>203954</td>\n",
       "      <td>40.726187</td>\n",
       "      <td>-73.735234</td>\n",
       "      <td>POINT (-73.73523390399998 40.72618713000002)</td>\n",
       "    </tr>\n",
       "    <tr>\n",
       "      <th>1</th>\n",
       "      <td>236943583</td>\n",
       "      <td>11/25/2021</td>\n",
       "      <td>263.0</td>\n",
       "      <td>ARSON 2,3,4</td>\n",
       "      <td>114.0</td>\n",
       "      <td>ARSON</td>\n",
       "      <td>PL 1501500</td>\n",
       "      <td>F</td>\n",
       "      <td>K</td>\n",
       "      <td>69</td>\n",
       "      <td>71</td>\n",
       "      <td>25-44</td>\n",
       "      <td>M</td>\n",
       "      <td>BLACK</td>\n",
       "      <td>1014340</td>\n",
       "      <td>171320</td>\n",
       "      <td>40.636868</td>\n",
       "      <td>-73.891586</td>\n",
       "      <td>POINT (-73.89158591899997 40.63686750900007)</td>\n",
       "    </tr>\n",
       "    <tr>\n",
       "      <th>2</th>\n",
       "      <td>234938876</td>\n",
       "      <td>10/14/2021</td>\n",
       "      <td>594.0</td>\n",
       "      <td>OBSCENITY 1</td>\n",
       "      <td>116.0</td>\n",
       "      <td>SEX CRIMES</td>\n",
       "      <td>PL 2631100</td>\n",
       "      <td>F</td>\n",
       "      <td>K</td>\n",
       "      <td>61</td>\n",
       "      <td>0</td>\n",
       "      <td>25-44</td>\n",
       "      <td>M</td>\n",
       "      <td>WHITE</td>\n",
       "      <td>995244</td>\n",
       "      <td>155739</td>\n",
       "      <td>40.594145</td>\n",
       "      <td>-73.960415</td>\n",
       "      <td>POINT (-73.96041495199995 40.59414516900005)</td>\n",
       "    </tr>\n",
       "    <tr>\n",
       "      <th>3</th>\n",
       "      <td>234788259</td>\n",
       "      <td>10/11/2021</td>\n",
       "      <td>263.0</td>\n",
       "      <td>ARSON 2,3,4</td>\n",
       "      <td>114.0</td>\n",
       "      <td>ARSON</td>\n",
       "      <td>PL 1501001</td>\n",
       "      <td>F</td>\n",
       "      <td>B</td>\n",
       "      <td>42</td>\n",
       "      <td>71</td>\n",
       "      <td>18-24</td>\n",
       "      <td>M</td>\n",
       "      <td>BLACK</td>\n",
       "      <td>1009058</td>\n",
       "      <td>239616</td>\n",
       "      <td>40.824340</td>\n",
       "      <td>-73.910365</td>\n",
       "      <td>POINT (-73.91036538099996 40.82433953100008)</td>\n",
       "    </tr>\n",
       "    <tr>\n",
       "      <th>4</th>\n",
       "      <td>234188790</td>\n",
       "      <td>09/28/2021</td>\n",
       "      <td>578.0</td>\n",
       "      <td>NaN</td>\n",
       "      <td>NaN</td>\n",
       "      <td>NaN</td>\n",
       "      <td>PL 2223001</td>\n",
       "      <td>M</td>\n",
       "      <td>B</td>\n",
       "      <td>44</td>\n",
       "      <td>0</td>\n",
       "      <td>25-44</td>\n",
       "      <td>M</td>\n",
       "      <td>BLACK</td>\n",
       "      <td>1005169</td>\n",
       "      <td>246667</td>\n",
       "      <td>40.843703</td>\n",
       "      <td>-73.924395</td>\n",
       "      <td>POINT (-73.92439508899997 40.84370255600004)</td>\n",
       "    </tr>\n",
       "    <tr>\n",
       "      <th>...</th>\n",
       "      <td>...</td>\n",
       "      <td>...</td>\n",
       "      <td>...</td>\n",
       "      <td>...</td>\n",
       "      <td>...</td>\n",
       "      <td>...</td>\n",
       "      <td>...</td>\n",
       "      <td>...</td>\n",
       "      <td>...</td>\n",
       "      <td>...</td>\n",
       "      <td>...</td>\n",
       "      <td>...</td>\n",
       "      <td>...</td>\n",
       "      <td>...</td>\n",
       "      <td>...</td>\n",
       "      <td>...</td>\n",
       "      <td>...</td>\n",
       "      <td>...</td>\n",
       "      <td>...</td>\n",
       "    </tr>\n",
       "    <tr>\n",
       "      <th>155502</th>\n",
       "      <td>222884924</td>\n",
       "      <td>01/10/2021</td>\n",
       "      <td>397.0</td>\n",
       "      <td>ROBBERY,OPEN AREA UNCLASSIFIED</td>\n",
       "      <td>105.0</td>\n",
       "      <td>ROBBERY</td>\n",
       "      <td>PL 1601001</td>\n",
       "      <td>F</td>\n",
       "      <td>B</td>\n",
       "      <td>46</td>\n",
       "      <td>0</td>\n",
       "      <td>45-64</td>\n",
       "      <td>M</td>\n",
       "      <td>BLACK</td>\n",
       "      <td>1011432</td>\n",
       "      <td>247605</td>\n",
       "      <td>40.846260</td>\n",
       "      <td>-73.901755</td>\n",
       "      <td>POINT (-73.90175529499999 40.846260031000035)</td>\n",
       "    </tr>\n",
       "    <tr>\n",
       "      <th>155503</th>\n",
       "      <td>223918625</td>\n",
       "      <td>02/03/2021</td>\n",
       "      <td>792.0</td>\n",
       "      <td>WEAPONS POSSESSION 1 &amp; 2</td>\n",
       "      <td>118.0</td>\n",
       "      <td>DANGEROUS WEAPONS</td>\n",
       "      <td>PL 2650303</td>\n",
       "      <td>F</td>\n",
       "      <td>K</td>\n",
       "      <td>67</td>\n",
       "      <td>0</td>\n",
       "      <td>18-24</td>\n",
       "      <td>M</td>\n",
       "      <td>BLACK</td>\n",
       "      <td>1004940</td>\n",
       "      <td>180941</td>\n",
       "      <td>40.663302</td>\n",
       "      <td>-73.925425</td>\n",
       "      <td>POINT (-73.92542497899994 40.66330200400005)</td>\n",
       "    </tr>\n",
       "    <tr>\n",
       "      <th>155504</th>\n",
       "      <td>224323770</td>\n",
       "      <td>02/13/2021</td>\n",
       "      <td>101.0</td>\n",
       "      <td>ASSAULT 3</td>\n",
       "      <td>344.0</td>\n",
       "      <td>ASSAULT 3 &amp; RELATED OFFENSES</td>\n",
       "      <td>PL 1200001</td>\n",
       "      <td>M</td>\n",
       "      <td>S</td>\n",
       "      <td>121</td>\n",
       "      <td>0</td>\n",
       "      <td>45-64</td>\n",
       "      <td>M</td>\n",
       "      <td>BLACK</td>\n",
       "      <td>942825</td>\n",
       "      <td>166367</td>\n",
       "      <td>40.623227</td>\n",
       "      <td>-74.149227</td>\n",
       "      <td>POINT (-74.14922697299994 40.623226819000074)</td>\n",
       "    </tr>\n",
       "    <tr>\n",
       "      <th>155505</th>\n",
       "      <td>222599533</td>\n",
       "      <td>01/04/2021</td>\n",
       "      <td>792.0</td>\n",
       "      <td>WEAPONS POSSESSION 1 &amp; 2</td>\n",
       "      <td>118.0</td>\n",
       "      <td>DANGEROUS WEAPONS</td>\n",
       "      <td>PL 2650303</td>\n",
       "      <td>F</td>\n",
       "      <td>K</td>\n",
       "      <td>73</td>\n",
       "      <td>0</td>\n",
       "      <td>25-44</td>\n",
       "      <td>M</td>\n",
       "      <td>BLACK</td>\n",
       "      <td>1007524</td>\n",
       "      <td>188555</td>\n",
       "      <td>40.684194</td>\n",
       "      <td>-73.916085</td>\n",
       "      <td>POINT (-73.91608474599997 40.684194302000044)</td>\n",
       "    </tr>\n",
       "    <tr>\n",
       "      <th>155506</th>\n",
       "      <td>224056881</td>\n",
       "      <td>02/06/2021</td>\n",
       "      <td>268.0</td>\n",
       "      <td>CRIMINAL MIS 2 &amp; 3</td>\n",
       "      <td>121.0</td>\n",
       "      <td>CRIMINAL MISCHIEF &amp; RELATED OF</td>\n",
       "      <td>PL 1451000</td>\n",
       "      <td>F</td>\n",
       "      <td>Q</td>\n",
       "      <td>102</td>\n",
       "      <td>0</td>\n",
       "      <td>18-24</td>\n",
       "      <td>M</td>\n",
       "      <td>ASIAN / PACIFIC ISLANDER</td>\n",
       "      <td>1031414</td>\n",
       "      <td>190787</td>\n",
       "      <td>40.690226</td>\n",
       "      <td>-73.829932</td>\n",
       "      <td>POINT (-73.82993153599993 40.69022556600004)</td>\n",
       "    </tr>\n",
       "  </tbody>\n",
       "</table>\n",
       "<p>155507 rows × 19 columns</p>\n",
       "</div>"
      ],
      "text/plain": [
       "        ARREST_KEY ARREST_DATE  PD_CD                         PD_DESC  KY_CD  \\\n",
       "0        238013474  12/18/2021  157.0                          RAPE 1  104.0   \n",
       "1        236943583  11/25/2021  263.0                     ARSON 2,3,4  114.0   \n",
       "2        234938876  10/14/2021  594.0                     OBSCENITY 1  116.0   \n",
       "3        234788259  10/11/2021  263.0                     ARSON 2,3,4  114.0   \n",
       "4        234188790  09/28/2021  578.0                             NaN    NaN   \n",
       "...            ...         ...    ...                             ...    ...   \n",
       "155502   222884924  01/10/2021  397.0  ROBBERY,OPEN AREA UNCLASSIFIED  105.0   \n",
       "155503   223918625  02/03/2021  792.0        WEAPONS POSSESSION 1 & 2  118.0   \n",
       "155504   224323770  02/13/2021  101.0                       ASSAULT 3  344.0   \n",
       "155505   222599533  01/04/2021  792.0        WEAPONS POSSESSION 1 & 2  118.0   \n",
       "155506   224056881  02/06/2021  268.0              CRIMINAL MIS 2 & 3  121.0   \n",
       "\n",
       "                             OFNS_DESC    LAW_CODE LAW_CAT_CD ARREST_BORO  \\\n",
       "0                                 RAPE  PL 1303501          F           Q   \n",
       "1                                ARSON  PL 1501500          F           K   \n",
       "2                           SEX CRIMES  PL 2631100          F           K   \n",
       "3                                ARSON  PL 1501001          F           B   \n",
       "4                                  NaN  PL 2223001          M           B   \n",
       "...                                ...         ...        ...         ...   \n",
       "155502                         ROBBERY  PL 1601001          F           B   \n",
       "155503               DANGEROUS WEAPONS  PL 2650303          F           K   \n",
       "155504    ASSAULT 3 & RELATED OFFENSES  PL 1200001          M           S   \n",
       "155505               DANGEROUS WEAPONS  PL 2650303          F           K   \n",
       "155506  CRIMINAL MISCHIEF & RELATED OF  PL 1451000          F           Q   \n",
       "\n",
       "        ARREST_PRECINCT  JURISDICTION_CODE AGE_GROUP PERP_SEX  \\\n",
       "0                   105                 97     18-24        M   \n",
       "1                    69                 71     25-44        M   \n",
       "2                    61                  0     25-44        M   \n",
       "3                    42                 71     18-24        M   \n",
       "4                    44                  0     25-44        M   \n",
       "...                 ...                ...       ...      ...   \n",
       "155502               46                  0     45-64        M   \n",
       "155503               67                  0     18-24        M   \n",
       "155504              121                  0     45-64        M   \n",
       "155505               73                  0     25-44        M   \n",
       "155506              102                  0     18-24        M   \n",
       "\n",
       "                       PERP_RACE  X_COORD_CD  Y_COORD_CD   Latitude  \\\n",
       "0                          BLACK     1057636      203954  40.726187   \n",
       "1                          BLACK     1014340      171320  40.636868   \n",
       "2                          WHITE      995244      155739  40.594145   \n",
       "3                          BLACK     1009058      239616  40.824340   \n",
       "4                          BLACK     1005169      246667  40.843703   \n",
       "...                          ...         ...         ...        ...   \n",
       "155502                     BLACK     1011432      247605  40.846260   \n",
       "155503                     BLACK     1004940      180941  40.663302   \n",
       "155504                     BLACK      942825      166367  40.623227   \n",
       "155505                     BLACK     1007524      188555  40.684194   \n",
       "155506  ASIAN / PACIFIC ISLANDER     1031414      190787  40.690226   \n",
       "\n",
       "        Longitude                       New Georeferenced Column  \n",
       "0      -73.735234   POINT (-73.73523390399998 40.72618713000002)  \n",
       "1      -73.891586   POINT (-73.89158591899997 40.63686750900007)  \n",
       "2      -73.960415   POINT (-73.96041495199995 40.59414516900005)  \n",
       "3      -73.910365   POINT (-73.91036538099996 40.82433953100008)  \n",
       "4      -73.924395   POINT (-73.92439508899997 40.84370255600004)  \n",
       "...           ...                                            ...  \n",
       "155502 -73.901755  POINT (-73.90175529499999 40.846260031000035)  \n",
       "155503 -73.925425   POINT (-73.92542497899994 40.66330200400005)  \n",
       "155504 -74.149227  POINT (-74.14922697299994 40.623226819000074)  \n",
       "155505 -73.916085  POINT (-73.91608474599997 40.684194302000044)  \n",
       "155506 -73.829932   POINT (-73.82993153599993 40.69022556600004)  \n",
       "\n",
       "[155507 rows x 19 columns]"
      ]
     },
     "execution_count": 132,
     "metadata": {},
     "output_type": "execute_result"
    }
   ],
   "source": [
    "df_arrests"
   ]
  },
  {
   "cell_type": "code",
   "execution_count": 133,
   "metadata": {},
   "outputs": [],
   "source": [
    "df_arrests = df_arrests[df_arrests['ARREST_DATE'].str.contains(f'{year}')]"
   ]
  },
  {
   "cell_type": "code",
   "execution_count": 134,
   "metadata": {},
   "outputs": [
    {
     "data": {
      "text/plain": [
       "ASSAULT 3                                               19766\n",
       "LARCENY,PETIT FROM OPEN AREAS,                          13143\n",
       "ASSAULT 2,1,UNCLASSIFIED                                11663\n",
       "ROBBERY,OPEN AREA UNCLASSIFIED                           7809\n",
       "PUBLIC ADMINISTRATION,UNCLASSI                           7135\n",
       "LARCENY,GRAND FROM OPEN AREAS, UNATTENDED                5772\n",
       "TRAFFIC,UNCLASSIFIED MISDEMEAN                           4908\n",
       "CONTROLLED SUBSTANCE, POSSESSI                           4569\n",
       "WEAPONS POSSESSION 1 & 2                                 4559\n",
       "BURGLARY,UNCLASSIFIED,UNKNOWN                            4453\n",
       "MENACING,UNCLASSIFIED                                    4436\n",
       "FORGERY,ETC.-MISD.                                       3819\n",
       "CRIMINAL MIS 2 & 3                                       3447\n",
       "CRIMINAL MISCHIEF,UNCLASSIFIED 4                         3443\n",
       "FORGERY,ETC.,UNCLASSIFIED-FELO                           3072\n",
       "STRANGULATION 1ST                                        2853\n",
       "AGGRAVATED HARASSMENT 2                                  2849\n",
       "OBSTR BREATH/CIRCUL                                      2653\n",
       "INTOXICATED DRIVING,ALCOHOL                              2614\n",
       "CONTEMPT,CRIMINAL                                        2442\n",
       "CONTROLLED SUBSTANCE,INTENT TO                           2374\n",
       "CHILD, ENDANGERING WELFARE                               1905\n",
       "WEAPONS, POSSESSION, ETC                                 1726\n",
       "TRAFFIC,UNCLASSIFIED INFRACTIO                           1504\n",
       "MURDER,UNCLASSIFIED                                      1466\n",
       "THEFT OF SERVICES, UNCLASSIFIE                           1326\n",
       "CONTROLLED SUBSTANCE,SALE 3                              1253\n",
       "U.S. CODE UNCLASSIFIED                                   1239\n",
       "RESISTING ARREST                                         1189\n",
       "LARCENY,GRAND OF AUTO                                    1181\n",
       "CRIMINAL MISCHIEF 4TH, GRAFFIT                           1177\n",
       "ASSAULT POLICE/PEACE OFFICER                             1063\n",
       "SEXUAL ABUSE 3,2                                          952\n",
       "STOLEN PROPERTY 2,1,POSSESSION                            890\n",
       "WEAPONS POSSESSION 3                                      888\n",
       "PUBLIC ADMINISTATION,UNCLASS M                            882\n",
       "TRESPASS 3, CRIMINAL                                      838\n",
       "RECKLESS ENDANGERMENT 2                                   774\n",
       "RECKLESS ENDANGERMENT 1                                   765\n",
       "STOLEN PROPERTY 3,POSSESSION                              758\n",
       "LARCENY,GRAND FROM PERSON,UNCL                            697\n",
       "NY STATE LAWS,UNCLASSIFIED FEL                            693\n",
       "CONTROLLED SUBSTANCE,POSSESS.                             630\n",
       "CRIMINAL CONTEMPT 1                                       594\n",
       "MISCHIEF,CRIMINAL,    UNCL 2ND                            589\n",
       "NY STATE LAWS,UNCLASSIFIED MIS                            543\n",
       "TAMPERING 1,CRIMINAL                                      505\n",
       "UNAUTHORIZED USE VEHICLE 3                                472\n",
       "BURGLARY,RESIDENCE,NIGHT                                  442\n",
       "TRESPASS 2, CRIMINAL                                      431\n",
       "BURGLARS TOOLS,UNCLASSIFIED                               404\n",
       "CONTROLLED SUBSTANCE, INTENT T                            379\n",
       "SEXUAL ABUSE                                              339\n",
       "DRUG PARAPHERNALIA,   POSSESSE                            334\n",
       "RAPE 1                                                    323\n",
       "ALCOHOLIC BEVERAGE CONTROL LAW                            313\n",
       "IMPERSONATION 2, PUBLIC SERVAN                            289\n",
       "LEAVING SCENE-ACCIDENT-PERSONA                            285\n",
       "MARIJUANA, SALE 4 & 5                                     274\n",
       "UNAUTHORIZED USE VEHICLE 2                                270\n",
       "BRIBERY,PUBLIC ADMINISTRATION                             248\n",
       "LEWDNESS,PUBLIC                                           244\n",
       "AGGRAVATED CRIMINAL CONTEMPT                              240\n",
       "FORGERY-ILLEGAL POSSESSION,VEH                            238\n",
       "RAPE 3                                                    214\n",
       "STOLEN PROPERTY-MOTOR VEH 2ND,                            209\n",
       "FRAUD,UNCLASSIFIED-FELONY                                 198\n",
       "MENACING 1ST DEGREE (VICT NOT                             192\n",
       "UNAUTH. SALE OF TRANS. SERVICE                            190\n",
       "NY STATE LAWS,UNCLASSIFIED VIO                            185\n",
       "GAMBLING 2,PROMOTING,UNCLASSIF                            175\n",
       "MARIJUANA, POSSESSION 1, 2 & 3                            153\n",
       "FUGITIVE/OTHER STATES                                     141\n",
       "MARIJUANA, POSSESSION 4 & 5                               134\n",
       "MATERIAL              OFFENSIV                            127\n",
       "AGGRAVATED GRAND LARCENY OF ATM                           123\n",
       "SODOMY 1                                                  122\n",
       "IMPRISONMENT 2,UNLAWFUL                                   119\n",
       "LEAVING THE SCENE / PROPERTY DAMAGE / INJURED ANIMAL      118\n",
       "ARSON 2,3,4                                               117\n",
       "CONSPIRACY 2, 1                                           115\n",
       "PERJURY 3,ETC.                                            107\n",
       "PROSTITUTION                                               96\n",
       "TAX LAW                                                    94\n",
       "IMPAIRED DRIVING,DRUG                                      89\n",
       "AGGRAVATED HARASSMENT 1                                    88\n",
       "CONTROLLED SUBSTANCE,SALE 1                                85\n",
       "FALSE REPORT UNCLASSIFIED                                  85\n",
       "BAIL JUMPING 1 & 2                                         82\n",
       "CONTROLLED SUBSTANCE,SALE 2                                82\n",
       "GAMBLING, DEVICE, POSSESSION                               82\n",
       "SALE SCHOOL GROUNDS                                        80\n",
       "RECKLESS DRIVING                                           71\n",
       "TORTURE/INJURE ANIMAL CRUELTY                              70\n",
       "RAPE 2                                                     69\n",
       "COURSE OF SEXUAL CONDUCT AGAIN                             68\n",
       "LARCENY,GRAND BY EXTORTION                                 65\n",
       "FACILITATION 4, CRIMINAL                                   62\n",
       "BAIL JUMPING 3                                             61\n",
       "MAKING TERRORISTIC THREAT                                  55\n",
       "Name: PD_DESC, dtype: int64"
      ]
     },
     "execution_count": 134,
     "metadata": {},
     "output_type": "execute_result"
    }
   ],
   "source": [
    "df_arrests['PD_DESC'].value_counts().nlargest(n=100)"
   ]
  },
  {
   "cell_type": "code",
   "execution_count": 135,
   "metadata": {},
   "outputs": [
    {
     "data": {
      "text/plain": [
       "BLACK                             77133\n",
       "WHITE HISPANIC                    38112\n",
       "WHITE                             17063\n",
       "BLACK HISPANIC                    13576\n",
       "ASIAN / PACIFIC ISLANDER           8593\n",
       "UNKNOWN                             587\n",
       "AMERICAN INDIAN/ALASKAN NATIVE      443\n",
       "Name: PERP_RACE, dtype: int64"
      ]
     },
     "execution_count": 135,
     "metadata": {},
     "output_type": "execute_result"
    }
   ],
   "source": [
    "df_arrests['PERP_RACE'].value_counts().nlargest(n=100)"
   ]
  },
  {
   "cell_type": "code",
   "execution_count": 136,
   "metadata": {},
   "outputs": [],
   "source": [
    "df_arrests_black = df_arrests[(df_arrests['PERP_RACE'] == 'BLACK') | (df_arrests['PERP_RACE'] == 'BLACK HISPANIC')]"
   ]
  },
  {
   "cell_type": "code",
   "execution_count": 137,
   "metadata": {},
   "outputs": [
    {
     "data": {
      "text/plain": [
       "BLACK             77133\n",
       "BLACK HISPANIC    13576\n",
       "Name: PERP_RACE, dtype: int64"
      ]
     },
     "execution_count": 137,
     "metadata": {},
     "output_type": "execute_result"
    }
   ],
   "source": [
    "# pd.set_option('max_rows', None)\n",
    "df_arrests_black['PERP_RACE'].value_counts().nlargest(n=100)"
   ]
  },
  {
   "cell_type": "code",
   "execution_count": 138,
   "metadata": {},
   "outputs": [
    {
     "data": {
      "text/plain": [
       "ASSAULT 3                                               10755\n",
       "ASSAULT 2,1,UNCLASSIFIED                                 6973\n",
       "LARCENY,PETIT FROM OPEN AREAS,                           6958\n",
       "ROBBERY,OPEN AREA UNCLASSIFIED                           5371\n",
       "PUBLIC ADMINISTRATION,UNCLASSI                           3901\n",
       "WEAPONS POSSESSION 1 & 2                                 3707\n",
       "LARCENY,GRAND FROM OPEN AREAS, UNATTENDED                3331\n",
       "TRAFFIC,UNCLASSIFIED MISDEMEAN                           2943\n",
       "MENACING,UNCLASSIFIED                                    2728\n",
       "BURGLARY,UNCLASSIFIED,UNKNOWN                            2501\n",
       "FORGERY,ETC.-MISD.                                       2483\n",
       "CONTROLLED SUBSTANCE, POSSESSI                           2264\n",
       "CRIMINAL MISCHIEF,UNCLASSIFIED 4                         2122\n",
       "FORGERY,ETC.,UNCLASSIFIED-FELO                           2101\n",
       "CRIMINAL MIS 2 & 3                                       1893\n",
       "STRANGULATION 1ST                                        1688\n",
       "AGGRAVATED HARASSMENT 2                                  1688\n",
       "OBSTR BREATH/CIRCUL                                      1563\n",
       "CONTROLLED SUBSTANCE,INTENT TO                           1544\n",
       "CONTEMPT,CRIMINAL                                        1473\n",
       "MURDER,UNCLASSIFIED                                      1139\n",
       "INTOXICATED DRIVING,ALCOHOL                              1001\n",
       "WEAPONS, POSSESSION, ETC                                  930\n",
       "CHILD, ENDANGERING WELFARE                                917\n",
       "TRAFFIC,UNCLASSIFIED INFRACTIO                            875\n",
       "THEFT OF SERVICES, UNCLASSIFIE                            835\n",
       "LARCENY,GRAND OF AUTO                                     784\n",
       "RESISTING ARREST                                          779\n",
       "CONTROLLED SUBSTANCE,SALE 3                               760\n",
       "ASSAULT POLICE/PEACE OFFICER                              728\n",
       "WEAPONS POSSESSION 3                                      631\n",
       "U.S. CODE UNCLASSIFIED                                    625\n",
       "PUBLIC ADMINISTATION,UNCLASS M                            565\n",
       "RECKLESS ENDANGERMENT 1                                   524\n",
       "STOLEN PROPERTY 2,1,POSSESSION                            521\n",
       "SEXUAL ABUSE 3,2                                          490\n",
       "TRESPASS 3, CRIMINAL                                      462\n",
       "LARCENY,GRAND FROM PERSON,UNCL                            460\n",
       "NY STATE LAWS,UNCLASSIFIED FEL                            422\n",
       "STOLEN PROPERTY 3,POSSESSION                              412\n",
       "RECKLESS ENDANGERMENT 2                                   406\n",
       "TAMPERING 1,CRIMINAL                                      387\n",
       "CRIMINAL CONTEMPT 1                                       369\n",
       "MISCHIEF,CRIMINAL,    UNCL 2ND                            333\n",
       "CONTROLLED SUBSTANCE,POSSESS.                             322\n",
       "UNAUTHORIZED USE VEHICLE 3                                304\n",
       "NY STATE LAWS,UNCLASSIFIED MIS                            291\n",
       "TRESPASS 2, CRIMINAL                                      254\n",
       "BURGLARY,RESIDENCE,NIGHT                                  245\n",
       "CRIMINAL MISCHIEF 4TH, GRAFFIT                            230\n",
       "MARIJUANA, SALE 4 & 5                                     214\n",
       "CONTROLLED SUBSTANCE, INTENT T                            213\n",
       "BURGLARS TOOLS,UNCLASSIFIED                               201\n",
       "DRUG PARAPHERNALIA,   POSSESSE                            195\n",
       "RAPE 1                                                    194\n",
       "IMPERSONATION 2, PUBLIC SERVAN                            186\n",
       "ALCOHOLIC BEVERAGE CONTROL LAW                            178\n",
       "FORGERY-ILLEGAL POSSESSION,VEH                            156\n",
       "AGGRAVATED CRIMINAL CONTEMPT                              155\n",
       "UNAUTHORIZED USE VEHICLE 2                                152\n",
       "LEWDNESS,PUBLIC                                           147\n",
       "SEXUAL ABUSE                                              139\n",
       "BRIBERY,PUBLIC ADMINISTRATION                             139\n",
       "STOLEN PROPERTY-MOTOR VEH 2ND,                            135\n",
       "UNAUTH. SALE OF TRANS. SERVICE                            134\n",
       "MENACING 1ST DEGREE (VICT NOT                             131\n",
       "LEAVING SCENE-ACCIDENT-PERSONA                            118\n",
       "NY STATE LAWS,UNCLASSIFIED VIO                            117\n",
       "GAMBLING 2,PROMOTING,UNCLASSIF                            114\n",
       "RAPE 3                                                    110\n",
       "FRAUD,UNCLASSIFIED-FELONY                                  94\n",
       "CONSPIRACY 2, 1                                            92\n",
       "MARIJUANA, POSSESSION 4 & 5                                89\n",
       "FUGITIVE/OTHER STATES                                      85\n",
       "AGGRAVATED GRAND LARCENY OF ATM                            81\n",
       "MATERIAL              OFFENSIV                             81\n",
       "MARIJUANA, POSSESSION 1, 2 & 3                             79\n",
       "ARSON 2,3,4                                                66\n",
       "PERJURY 3,ETC.                                             66\n",
       "SODOMY 1                                                   62\n",
       "LEAVING THE SCENE / PROPERTY DAMAGE / INJURED ANIMAL       60\n",
       "SALE SCHOOL GROUNDS                                        59\n",
       "IMPRISONMENT 2,UNLAWFUL                                    54\n",
       "AGGRAVATED HARASSMENT 1                                    52\n",
       "RECKLESS DRIVING                                           45\n",
       "CONTROLLED SUBSTANCE,SALE 1                                41\n",
       "TORTURE/INJURE ANIMAL CRUELTY                              41\n",
       "FALSE REPORT UNCLASSIFIED                                  38\n",
       "CONTROLLED SUBSTANCE,SALE 2                                37\n",
       "FACILITATION 4, CRIMINAL                                   37\n",
       "RAPE 2                                                     37\n",
       "LARCENY,GRAND BY EXTORTION                                 36\n",
       "CONSPIRACY 4, 3                                            36\n",
       "MAKING TERRORISTIC THREAT                                  31\n",
       "BAIL JUMPING 3                                             31\n",
       "FRAUD,UNCLASSIFIED-MISDEMEANOR                             31\n",
       "IMPRISONMENT 1,UNLAWFUL                                    30\n",
       "BAIL JUMPING 1 & 2                                         30\n",
       "ACCOSTING,FRAUDULENT                                       29\n",
       "ROBBERY,CAR JACKING                                        28\n",
       "Name: PD_DESC, dtype: int64"
      ]
     },
     "execution_count": 138,
     "metadata": {},
     "output_type": "execute_result"
    }
   ],
   "source": [
    "pd.set_option('display.max_rows', 100)\n",
    "df_arrests_black['PD_DESC'].value_counts().nlargest(n=100)"
   ]
  },
  {
   "cell_type": "code",
   "execution_count": 139,
   "metadata": {},
   "outputs": [],
   "source": [
    "df_arrests_assault = df_arrests[(df_arrests['PD_DESC'] == 'ASSAULT 3')| (df_arrests['PD_DESC'] == 'ASSAULT 2,1,UNCLASSIFIED')]"
   ]
  },
  {
   "cell_type": "code",
   "execution_count": 140,
   "metadata": {},
   "outputs": [
    {
     "data": {
      "text/plain": [
       "BLACK                             15081\n",
       "WHITE HISPANIC                     8262\n",
       "WHITE                              2962\n",
       "BLACK HISPANIC                     2647\n",
       "ASIAN / PACIFIC ISLANDER           2243\n",
       "AMERICAN INDIAN/ALASKAN NATIVE      134\n",
       "UNKNOWN                             100\n",
       "Name: PERP_RACE, dtype: int64"
      ]
     },
     "execution_count": 140,
     "metadata": {},
     "output_type": "execute_result"
    }
   ],
   "source": [
    "df_arrests_assault['PERP_RACE'].value_counts()"
   ]
  },
  {
   "cell_type": "code",
   "execution_count": 141,
   "metadata": {},
   "outputs": [
    {
     "data": {
      "text/plain": [
       "25-44    50475\n",
       "18-24    18456\n",
       "45-64    17139\n",
       "<18       3541\n",
       "65+       1098\n",
       "Name: AGE_GROUP, dtype: int64"
      ]
     },
     "execution_count": 141,
     "metadata": {},
     "output_type": "execute_result"
    }
   ],
   "source": [
    "df_arrests_black['AGE_GROUP'].value_counts().nlargest(n=100)"
   ]
  },
  {
   "cell_type": "code",
   "execution_count": 142,
   "metadata": {},
   "outputs": [
    {
     "data": {
      "text/plain": [
       "M    75382\n",
       "F    15327\n",
       "Name: PERP_SEX, dtype: int64"
      ]
     },
     "execution_count": 142,
     "metadata": {},
     "output_type": "execute_result"
    }
   ],
   "source": [
    "# PERP_SEX\n",
    "df_arrests_black['PERP_SEX'].value_counts().nlargest(n=100)"
   ]
  },
  {
   "cell_type": "code",
   "execution_count": 143,
   "metadata": {},
   "outputs": [
    {
     "data": {
      "text/plain": [
       "25-44    88850\n",
       "45-64    30608\n",
       "18-24    28951\n",
       "<18       4800\n",
       "65+       2298\n",
       "Name: AGE_GROUP, dtype: int64"
      ]
     },
     "execution_count": 143,
     "metadata": {},
     "output_type": "execute_result"
    }
   ],
   "source": [
    "df_arrests['AGE_GROUP'].value_counts().nlargest(n=100)"
   ]
  },
  {
   "cell_type": "code",
   "execution_count": 144,
   "metadata": {},
   "outputs": [],
   "source": [
    "df_arrests_old = df_arrests[df_arrests['AGE_GROUP'] == \"65+\"]"
   ]
  },
  {
   "cell_type": "code",
   "execution_count": 145,
   "metadata": {},
   "outputs": [
    {
     "data": {
      "text/plain": [
       "ASSAULT 3                                               354\n",
       "ASSAULT 2,1,UNCLASSIFIED                                284\n",
       "LARCENY,PETIT FROM OPEN AREAS,                          187\n",
       "MENACING,UNCLASSIFIED                                   154\n",
       "PUBLIC ADMINISTRATION,UNCLASSI                          137\n",
       "CONTROLLED SUBSTANCE, POSSESSI                          102\n",
       "LARCENY,GRAND FROM OPEN AREAS, UNATTENDED                73\n",
       "BURGLARY,UNCLASSIFIED,UNKNOWN                            50\n",
       "OBSTR BREATH/CIRCUL                                      46\n",
       "CONTROLLED SUBSTANCE,INTENT TO                           45\n",
       "INTOXICATED DRIVING,ALCOHOL                              44\n",
       "TRAFFIC,UNCLASSIFIED MISDEMEAN                           42\n",
       "CRIMINAL MISCHIEF,UNCLASSIFIED 4                         42\n",
       "CONTEMPT,CRIMINAL                                        42\n",
       "STRANGULATION 1ST                                        42\n",
       "WEAPONS, POSSESSION, ETC                                 40\n",
       "CONTROLLED SUBSTANCE,SALE 3                              35\n",
       "ROBBERY,OPEN AREA UNCLASSIFIED                           33\n",
       "SEXUAL ABUSE 3,2                                         29\n",
       "SEXUAL ABUSE                                             29\n",
       "CRIMINAL MIS 2 & 3                                       28\n",
       "U.S. CODE UNCLASSIFIED                                   25\n",
       "WEAPONS POSSESSION 1 & 2                                 22\n",
       "FORGERY,ETC.-MISD.                                       19\n",
       "CHILD, ENDANGERING WELFARE                               19\n",
       "AGGRAVATED HARASSMENT 2                                  18\n",
       "FORGERY,ETC.,UNCLASSIFIED-FELO                           18\n",
       "LEWDNESS,PUBLIC                                          15\n",
       "RECKLESS ENDANGERMENT 2                                  14\n",
       "PUBLIC ADMINISTATION,UNCLASS M                           13\n",
       "TRESPASS 3, CRIMINAL                                     12\n",
       "TRAFFIC,UNCLASSIFIED INFRACTIO                           11\n",
       "CRIMINAL CONTEMPT 1                                      11\n",
       "NY STATE LAWS,UNCLASSIFIED FEL                           10\n",
       "WEAPONS POSSESSION 3                                     10\n",
       "LEAVING SCENE-ACCIDENT-PERSONA                           10\n",
       "MURDER,UNCLASSIFIED                                      10\n",
       "CONTROLLED SUBSTANCE,POSSESS.                             9\n",
       "NY STATE LAWS,UNCLASSIFIED MIS                            9\n",
       "STOLEN PROPERTY 3,POSSESSION                              9\n",
       "THEFT OF SERVICES, UNCLASSIFIE                            8\n",
       "RAPE 1                                                    8\n",
       "COURSE OF SEXUAL CONDUCT AGAIN                            7\n",
       "MISCHIEF,CRIMINAL,    UNCL 2ND                            7\n",
       "LEAVING THE SCENE / PROPERTY DAMAGE / INJURED ANIMAL      6\n",
       "ARSON 2,3,4                                               6\n",
       "ALCOHOLIC BEVERAGE CONTROL LAW                            5\n",
       "LARCENY,GRAND FROM PERSON,UNCL                            5\n",
       "CRIMINAL MISCHIEF 4TH, GRAFFIT                            5\n",
       "BRIBERY,PUBLIC ADMINISTRATION                             5\n",
       "TAX LAW                                                   5\n",
       "TRESPASS 2, CRIMINAL                                      4\n",
       "LARCENY,GRAND OF AUTO                                     4\n",
       "SODOMY 1                                                  4\n",
       "BURGLARY,RESIDENCE,NIGHT                                  4\n",
       "ACCOSTING,FRAUDULENT                                      4\n",
       "RAPE 3                                                    3\n",
       "IMPERSONATION 2, PUBLIC SERVAN                            3\n",
       "AGGRAVATED CRIMINAL CONTEMPT                              3\n",
       "DRUG PARAPHERNALIA,   POSSESSE                            3\n",
       "STOLEN PROPERTY 2,1,POSSESSION                            3\n",
       "HOMICIDE,NEGLIGENT,UNCLASSIFIE                            3\n",
       "MENACING 1ST DEGREE (VICT NOT                             3\n",
       "FACILITATION 4, CRIMINAL                                  3\n",
       "IMPAIRED DRIVING,DRUG                                     3\n",
       "CONTROLLED SUBSTANCE, INTENT T                            3\n",
       "TORTURE/INJURE ANIMAL CRUELTY                             3\n",
       "FRAUD,UNCLASSIFIED-MISDEMEANOR                            3\n",
       "RESISTING ARREST                                          2\n",
       "PROSTITUTION                                              2\n",
       "PROSTITUTION 3, PROMOTING UNDE                            2\n",
       "MARIJUANA, SALE 4 & 5                                     2\n",
       "SALE SCHOOL GROUNDS                                       2\n",
       "RECKLESS ENDANGERMENT OF PROPE                            2\n",
       "GAMBLING, DEVICE, POSSESSION                              2\n",
       "CONTROLLED SUBSTANCE,SALE 1                               2\n",
       "RECKLESS ENDANGERMENT 1                                   2\n",
       "ASSAULT POLICE/PEACE OFFICER                              2\n",
       "MANSLAUGHTER,UNCLASSIFIED - NO                            2\n",
       "PROSTITUTION 4,PROMOTING&SECUR                            2\n",
       "RAPE 2                                                    2\n",
       "IMPRISONMENT 2,UNLAWFUL                                   2\n",
       "END WELFARE VULNERABLE ELDERLY PERSON                     1\n",
       "UNAUTH. SALE OF TRANS. SERVICE                            1\n",
       "KIDNAPPING 2                                              1\n",
       "AGGRAVATED GRAND LARCENY OF ATM                           1\n",
       "FRAUD,UNCLASSIFIED-FELONY                                 1\n",
       "BRIBERY,FRAUD                                             1\n",
       "PERJURY 3,ETC.                                            1\n",
       "FALSE ALARM FIRE                                          1\n",
       "ENTERPRISE CORRUPTION                                     1\n",
       "COERCION 1                                                1\n",
       "NYS UNCLASSIFIED                                          1\n",
       "CONSPIRACY 2, 1                                           1\n",
       "PROSTITUTION, PATRONIZING 4, 3                            1\n",
       "PERJURY 2,1,ETC                                           1\n",
       "AGGRAVATED HARASSMENT 1                                   1\n",
       "NUISANCE,CRIMINAL,UNCLASSIFIED                            1\n",
       "CONTROLLED SUBSTANCE,SALE 2                               1\n",
       "SODOMY 3                                                  1\n",
       "Name: PD_DESC, dtype: int64"
      ]
     },
     "execution_count": 145,
     "metadata": {},
     "output_type": "execute_result"
    }
   ],
   "source": [
    "df_arrests_old['PD_DESC'].value_counts().nlargest(n=100)"
   ]
  },
  {
   "cell_type": "code",
   "execution_count": 146,
   "metadata": {},
   "outputs": [],
   "source": [
    "df_arrests_robbery = df_arrests[(df_arrests['PD_DESC'] == 'ROBBERY,OPEN AREA UNCLASSIFIED')| (df_arrests['PD_DESC'] == 'BURGLARY,RESIDENCE,NIGHT') |(df_arrests['PD_DESC'] == 'BURGLARY,UNCLASSIFIED,UNKNOWN')]"
   ]
  },
  {
   "cell_type": "code",
   "execution_count": 147,
   "metadata": {},
   "outputs": [
    {
     "data": {
      "text/plain": [
       "BLACK                             6885\n",
       "WHITE HISPANIC                    2976\n",
       "BLACK HISPANIC                    1232\n",
       "WHITE                             1205\n",
       "ASIAN / PACIFIC ISLANDER           348\n",
       "UNKNOWN                             44\n",
       "AMERICAN INDIAN/ALASKAN NATIVE      14\n",
       "Name: PERP_RACE, dtype: int64"
      ]
     },
     "execution_count": 147,
     "metadata": {},
     "output_type": "execute_result"
    }
   ],
   "source": [
    "df_arrests_robbery['PERP_RACE'].value_counts().nlargest(n=100)"
   ]
  },
  {
   "cell_type": "code",
   "execution_count": 148,
   "metadata": {},
   "outputs": [],
   "source": [
    "df_arrests_rape = df_arrests[(df_arrests['PD_DESC'] == 'RAPE 2')| (df_arrests['PD_DESC'] == 'RAPE 1') |(df_arrests['PD_DESC'] == 'RAPE 3')]"
   ]
  },
  {
   "cell_type": "code",
   "execution_count": 149,
   "metadata": {},
   "outputs": [
    {
     "data": {
      "text/plain": [
       "BLACK                             274\n",
       "WHITE HISPANIC                    192\n",
       "BLACK HISPANIC                     67\n",
       "ASIAN / PACIFIC ISLANDER           38\n",
       "WHITE                              31\n",
       "UNKNOWN                             3\n",
       "AMERICAN INDIAN/ALASKAN NATIVE      1\n",
       "Name: PERP_RACE, dtype: int64"
      ]
     },
     "execution_count": 149,
     "metadata": {},
     "output_type": "execute_result"
    }
   ],
   "source": [
    "df_arrests_rape['PERP_RACE'].value_counts().nlargest(n=100)"
   ]
  },
  {
   "cell_type": "code",
   "execution_count": 150,
   "metadata": {},
   "outputs": [],
   "source": [
    "df_arrests_murder = df_arrests[(df_arrests['PD_DESC'] == 'MURDER,UNCLASSIFIED')]"
   ]
  },
  {
   "cell_type": "code",
   "execution_count": 151,
   "metadata": {},
   "outputs": [
    {
     "data": {
      "text/plain": [
       "BLACK                       973\n",
       "WHITE HISPANIC              258\n",
       "BLACK HISPANIC              166\n",
       "ASIAN / PACIFIC ISLANDER     33\n",
       "WHITE                        32\n",
       "UNKNOWN                       4\n",
       "Name: PERP_RACE, dtype: int64"
      ]
     },
     "execution_count": 151,
     "metadata": {},
     "output_type": "execute_result"
    }
   ],
   "source": [
    "df_arrests_murder['PERP_RACE'].value_counts().nlargest(n=100)"
   ]
  },
  {
   "cell_type": "code",
   "execution_count": 152,
   "metadata": {},
   "outputs": [
    {
     "data": {
      "text/plain": [
       "WHITE HISPANIC                    986\n",
       "BLACK                             788\n",
       "WHITE                             360\n",
       "ASIAN / PACIFIC ISLANDER          236\n",
       "BLACK HISPANIC                    213\n",
       "UNKNOWN                            23\n",
       "AMERICAN INDIAN/ALASKAN NATIVE      8\n",
       "Name: PERP_RACE, dtype: int64"
      ]
     },
     "execution_count": 152,
     "metadata": {},
     "output_type": "execute_result"
    }
   ],
   "source": [
    "# INTOXICATED DRIVING,ALCOHOL\n",
    "df_arrests_drunk = df_arrests[(df_arrests['PD_DESC'] == 'INTOXICATED DRIVING,ALCOHOL')]\n",
    "df_arrests_drunk['PERP_RACE'].value_counts().nlargest(n=100)"
   ]
  },
  {
   "cell_type": "code",
   "execution_count": 153,
   "metadata": {},
   "outputs": [],
   "source": [
    "df_arrests_larceny = df_arrests[(df_arrests['PD_DESC'] == 'LARCENY,PETIT FROM OPEN AREAS')| (df_arrests['PD_DESC'] == 'LARCENY,GRAND FROM OPEN AREAS, UNATTENDED') |(df_arrests['PD_DESC'] == 'LARCENY,GRAND OF AUTO') | (df_arrests['PD_DESC'] == 'LARCENY,GRAND FROM PERSON,UNCL') |(df_arrests['PD_DESC'] == 'AGGRAVATED GRAND LARCENY OF ATM') | (df_arrests['PD_DESC'] == 'LARCENY,GRAND BY EXTORTION')]"
   ]
  },
  {
   "cell_type": "code",
   "execution_count": 154,
   "metadata": {},
   "outputs": [
    {
     "data": {
      "text/plain": [
       "BLACK                             3890\n",
       "WHITE HISPANIC                    1784\n",
       "WHITE                             1021\n",
       "BLACK HISPANIC                     802\n",
       "ASIAN / PACIFIC ISLANDER           300\n",
       "UNKNOWN                             23\n",
       "AMERICAN INDIAN/ALASKAN NATIVE      18\n",
       "Name: PERP_RACE, dtype: int64"
      ]
     },
     "execution_count": 154,
     "metadata": {},
     "output_type": "execute_result"
    }
   ],
   "source": [
    "df_arrests_larceny['PERP_RACE'].value_counts().nlargest(n=100)"
   ]
  },
  {
   "cell_type": "code",
   "execution_count": 155,
   "metadata": {},
   "outputs": [
    {
     "data": {
      "text/plain": [
       "14     4762\n",
       "44     4387\n",
       "75     4249\n",
       "40     4070\n",
       "47     3489\n",
       "114    3462\n",
       "43     3412\n",
       "52     3275\n",
       "46     3274\n",
       "103    3241\n",
       "113    3223\n",
       "42     3071\n",
       "67     3019\n",
       "25     2911\n",
       "120    2896\n",
       "73     2579\n",
       "109    2519\n",
       "115    2516\n",
       "48     2511\n",
       "79     2489\n",
       "5      2427\n",
       "18     2421\n",
       "110    2379\n",
       "32     2352\n",
       "60     2334\n",
       "102    2209\n",
       "121    2175\n",
       "105    2138\n",
       "33     2051\n",
       "72     2051\n",
       "13     2039\n",
       "41     2031\n",
       "83     1994\n",
       "70     1974\n",
       "84     1939\n",
       "28     1923\n",
       "106    1919\n",
       "104    1897\n",
       "77     1896\n",
       "71     1894\n",
       "23     1865\n",
       "1      1753\n",
       "90     1677\n",
       "49     1675\n",
       "9      1672\n",
       "107    1640\n",
       "7      1622\n",
       "19     1549\n",
       "108    1527\n",
       "24     1506\n",
       "62     1504\n",
       "45     1502\n",
       "10     1496\n",
       "63     1492\n",
       "101    1489\n",
       "61     1485\n",
       "30     1473\n",
       "68     1449\n",
       "81     1433\n",
       "6      1430\n",
       "34     1412\n",
       "69     1385\n",
       "112    1385\n",
       "122    1342\n",
       "50     1321\n",
       "66     1130\n",
       "26     1005\n",
       "20      999\n",
       "94      986\n",
       "78      945\n",
       "17      939\n",
       "88      874\n",
       "100     827\n",
       "123     798\n",
       "76      772\n",
       "111     700\n",
       "22       50\n",
       "Name: ARREST_PRECINCT, dtype: int64"
      ]
     },
     "execution_count": 155,
     "metadata": {},
     "output_type": "execute_result"
    }
   ],
   "source": [
    "df_arrests['ARREST_PRECINCT'].value_counts()"
   ]
  },
  {
   "cell_type": "code",
   "execution_count": 156,
   "metadata": {},
   "outputs": [],
   "source": [
    "df_arrests_black.to_csv('df_arrests_black.csv')"
   ]
  },
  {
   "cell_type": "code",
   "execution_count": 157,
   "metadata": {},
   "outputs": [],
   "source": [
    "df_arrests_drunk.to_csv('df_arrests_drunk.csv')"
   ]
  },
  {
   "cell_type": "code",
   "execution_count": 158,
   "metadata": {},
   "outputs": [],
   "source": [
    "df_arrests_assault.to_csv('df_arrests_assault.csv')"
   ]
  },
  {
   "cell_type": "code",
   "execution_count": 159,
   "metadata": {},
   "outputs": [],
   "source": [
    "df_arrests_robbery.to_csv('df_arrests_robbery.csv')"
   ]
  },
  {
   "cell_type": "code",
   "execution_count": 160,
   "metadata": {},
   "outputs": [],
   "source": [
    "df_arrests_larceny.to_csv('df_arrests_larceny.csv')"
   ]
  },
  {
   "cell_type": "code",
   "execution_count": null,
   "metadata": {},
   "outputs": [],
   "source": []
  }
 ],
 "metadata": {
  "kernelspec": {
   "display_name": "Python 3",
   "language": "python",
   "name": "python3"
  },
  "language_info": {
   "codemirror_mode": {
    "name": "ipython",
    "version": 3
   },
   "file_extension": ".py",
   "mimetype": "text/x-python",
   "name": "python",
   "nbconvert_exporter": "python",
   "pygments_lexer": "ipython3",
   "version": "3.8.5"
  }
 },
 "nbformat": 4,
 "nbformat_minor": 4
}
